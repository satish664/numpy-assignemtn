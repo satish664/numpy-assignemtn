{
 "cells": [
  {
   "cell_type": "code",
   "execution_count": 1,
   "id": "9b5c7818",
   "metadata": {},
   "outputs": [],
   "source": [
    "import numpy as np\n",
    "\n",
    "def vandermonde_matrix(x, increasing):\n",
    "    n = len(x)\n",
    "    if increasing:\n",
    "        return np.vander(x, n)\n",
    "    else:\n",
    "        powers = np.arange(n-1,-1,-1)\n",
    "        return x.reshape(-1,1) ** powers\n"
   ]
  },
  {
   "cell_type": "code",
   "execution_count": 2,
   "id": "8be10d2b",
   "metadata": {},
   "outputs": [],
   "source": [
    "def moving_average(arr, window_size):\n",
    "    n = len(arr)\n",
    "    moving_avgs = []\n",
    "    for i in range(n - window_size + 1):\n",
    "        window = arr[i:i + window_size]\n",
    "        moving_avgs.append(sum(window) / window_size)\n",
    "    return moving_avgs"
   ]
  },
  {
   "cell_type": "code",
   "execution_count": 3,
   "id": "f72cdd09",
   "metadata": {},
   "outputs": [
    {
     "data": {
      "text/plain": [
       "[5.0,\n",
       " 4.666666666666667,\n",
       " 5.666666666666667,\n",
       " 6.666666666666667,\n",
       " 9.666666666666666,\n",
       " 28.666666666666668,\n",
       " 49.333333333333336,\n",
       " 72.66666666666667,\n",
       " 84.0,\n",
       " 93.33333333333333,\n",
       " 116.33333333333333]"
      ]
     },
     "execution_count": 3,
     "metadata": {},
     "output_type": "execute_result"
    }
   ],
   "source": [
    "arr = [3, 5, 7, 2, 8, 10, 11, 65, 72, 81, 99, 100, 150]\n",
    "window_size = 3\n",
    "moving_average(arr, window_size)"
   ]
  },
  {
   "cell_type": "code",
   "execution_count": null,
   "id": "967441fc",
   "metadata": {},
   "outputs": [],
   "source": []
  }
 ],
 "metadata": {
  "kernelspec": {
   "display_name": "Python 3",
   "language": "python",
   "name": "python3"
  },
  "language_info": {
   "codemirror_mode": {
    "name": "ipython",
    "version": 3
   },
   "file_extension": ".py",
   "mimetype": "text/x-python",
   "name": "python",
   "nbconvert_exporter": "python",
   "pygments_lexer": "ipython3",
   "version": "3.6.4"
  }
 },
 "nbformat": 4,
 "nbformat_minor": 5
}
